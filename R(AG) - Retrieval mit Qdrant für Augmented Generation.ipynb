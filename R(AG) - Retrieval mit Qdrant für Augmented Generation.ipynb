{
 "cells": [
  {
   "cell_type": "code",
   "execution_count": null,
   "id": "cef58038-bd97-44ca-a096-d5b9a027fadd",
   "metadata": {},
   "outputs": [],
   "source": [
    "import logging\n",
    "logging.basicConfig(level=logging.INFO)\n",
    "logger = logging.getLogger(__name__)\n",
    "\n",
    "import warnings\n",
    "warnings.filterwarnings(\"ignore\", category=FutureWarning)"
   ]
  },
  {
   "cell_type": "code",
   "execution_count": null,
   "id": "a3b775ee-25f5-4492-af6e-b29c6701eec5",
   "metadata": {},
   "outputs": [],
   "source": [
    "from sentence_transformers import SentenceTransformer\n",
    "\n",
    "# Der erste Download des Models dauert einen längeren Augenblick, da einige GB an Daten heruntergeladen werden!\n",
    "model = SentenceTransformer('sentence-transformers/paraphrase-multilingual-mpnet-base-v2')"
   ]
  },
  {
   "cell_type": "code",
   "execution_count": null,
   "id": "b09807bf-04d0-4deb-b765-b209e95b9f68",
   "metadata": {},
   "outputs": [],
   "source": [
    "import numpy as np\n",
    "vector_function = lambda text: model.encode([text], show_progress_bar=False)[0]"
   ]
  },
  {
   "cell_type": "code",
   "execution_count": null,
   "id": "0a2da467-0fbd-4519-ad04-d6e7cef70a84",
   "metadata": {},
   "outputs": [],
   "source": [
    "from qdrant_client import QdrantClient\n",
    "\n",
    "# man Qdrant auch als Dockercontainer laufen lassen\n",
    "#qdrant = QdrantClient(\"http://localhost:6333\")\n",
    "\n",
    "# Erzeugt einen Vektorstorage im Arbeitsspeicher \n",
    "# (geht verloren wenn die Variable neu initialisiert wird oder der Notebook Kernel beendet wird)\n",
    "qdrant = QdrantClient(\":memory:\")"
   ]
  },
  {
   "cell_type": "code",
   "execution_count": null,
   "id": "c437ab89-be1a-46b8-b922-a4ea0abfe69c",
   "metadata": {},
   "outputs": [],
   "source": [
    "from qdrant_client.http.models import VectorParams, PointStruct\n",
    "\n",
    "collection_name = \"the_target_collection\"\n",
    "vector_params = VectorParams(size=768, distance=\"Cosine\")"
   ]
  },
  {
   "cell_type": "code",
   "execution_count": null,
   "id": "9cb489a7-56d2-461a-a3e2-4242f7050cd0",
   "metadata": {},
   "outputs": [],
   "source": [
    "# Create the collection\n",
    "qdrant.create_collection(\n",
    "    collection_name=collection_name,\n",
    "    vectors_config=vector_params\n",
    ")"
   ]
  },
  {
   "cell_type": "code",
   "execution_count": null,
   "id": "0c3b4844-0747-4acb-863d-b990de314034",
   "metadata": {},
   "outputs": [],
   "source": [
    "from bs4 import BeautifulSoup\n",
    "import requests\n",
    "\n",
    "def crawl_website(url: str) -> str:\n",
    "    crawl_response = requests.get(url)\n",
    "    if crawl_response.status_code != 200:\n",
    "        logger.warning(f\"Website wurde nicht erfoglreich heruntergeladen - {crawl_response.text}\")\n",
    "        raise ValueError(\"Website nicht geladen\")\n",
    "\n",
    "    website_text = crawl_response.text\n",
    "    cleaned_text = BeautifulSoup(website_text).get_text()    \n",
    "    return cleaned_text"
   ]
  },
  {
   "cell_type": "code",
   "execution_count": null,
   "id": "70cbb19e-c8b3-4615-8bf3-720821961462",
   "metadata": {},
   "outputs": [],
   "source": [
    "text1 = crawl_website(\"https://de.wikipedia.org/wiki/Hulk_Hogan\")\n",
    "text2 = crawl_website(\"https://de.wikipedia.org/wiki/The_Undertaker\")\n",
    "text3 = crawl_website(\"https://de.wikipedia.org/wiki/Dwayne_Johnson\")"
   ]
  },
  {
   "cell_type": "code",
   "execution_count": null,
   "id": "58820712-d847-4b81-a4ca-a2834f96197a",
   "metadata": {},
   "outputs": [],
   "source": [
    "import itertools\n",
    "\n",
    "def chunker(text: str) -> list[str]:\n",
    "    return [''.join(chunk) for chunk in itertools.batched(text, 250)]\n",
    "\n",
    "data_points = [PointStruct(id=idx, vector=vector_function(c), payload={\"text\": c}) \n",
    "               for idx, c in enumerate(chunker(text=text1) + chunker(text=text2) + chunker(text=text3))]"
   ]
  },
  {
   "cell_type": "code",
   "execution_count": null,
   "id": "70bedd82-a5f3-40d7-9aa4-d3702c7f14cf",
   "metadata": {},
   "outputs": [],
   "source": [
    "qdrant.upsert(points=data_points, collection_name=collection_name)"
   ]
  },
  {
   "cell_type": "code",
   "execution_count": null,
   "id": "4b5c51f0-4206-4206-a48c-173a03072dcf",
   "metadata": {},
   "outputs": [],
   "source": [
    "query_vector = vector_function(\"Wann starb Hulk Hogan\")"
   ]
  },
  {
   "cell_type": "code",
   "execution_count": null,
   "id": "9d51a623-0ac5-4296-9b53-efca0672e54b",
   "metadata": {},
   "outputs": [],
   "source": [
    "# Wir kriegen zwar ein Ergebnis ABER wir haben jetzt das Problem das wir nicht wissen zu welchen ursprünglichen Dokument eine Chunk gehört.\n",
    "# Vector Datenbank arbeiten in der Regel auf Chunk Level. Das heißt, wer \"ursprüngliche\" Dokumente für einen/den besten Chunk abrufen will, \n",
    "# der muss mitverfolgen welche Chunk-ID zu welchem Document gehört. Dieses Mapping muss während dem Chunking aufgebaut werden.\n",
    "results = qdrant.search(\n",
    "    collection_name=collection_name,\n",
    "    query_vector=query_vector,\n",
    "    limit=10\n",
    ")\n",
    "\n",
    "matching_chunks = [result.payload for result in results]"
   ]
  },
  {
   "cell_type": "markdown",
   "id": "eefcf16b-9afa-405e-a4a9-c4c4beffe43e",
   "metadata": {},
   "source": [
    "### Überarbeitet Version die den Dokumenten Ursprung mitverfolgt"
   ]
  },
  {
   "cell_type": "markdown",
   "id": "5fd7290a-dffc-4127-acc6-f6bf1767dfcd",
   "metadata": {},
   "source": [
    "### Anfügen des Antwortdokumentes an eine ChatGPT Interaktion"
   ]
  },
  {
   "cell_type": "code",
   "execution_count": null,
   "id": "89db880f-202a-4b90-8f7c-37787a0ab801",
   "metadata": {},
   "outputs": [],
   "source": [
    "from dotenv import load_dotenv\n",
    "# lädt die (versteckte) Datei die im selben Ordner liegt wie dieses notebook file\n",
    "# die Datei muss .env benannt sein, diese Dateien sind in der Regel ausgeblendet, \n",
    "# weil Dateien mit . andeuten, dass diese im Explorer ausgeblendet werden.\n",
    "# In der Datei\n",
    "load_dotenv()\n",
    "\n",
    "import os\n",
    "headers = {\n",
    "    \"Content-Type\": \"application/json\",\n",
    "    \"Authorization\": f\"Bearer {os.environ[\"API_KEY\"]}\",\n",
    "}\n",
    "\n",
    "import pprint\n",
    "import requests\n",
    "\n",
    "def call_openai(payload: dict) -> dict:\n",
    "    ENDPOINT = \"https://api.openai.com/v1/chat/completions\"\n",
    "        \n",
    "    response = requests.post(ENDPOINT, headers=headers, json=payload)\n",
    "    if response.status_code != 200:\n",
    "        logger.warning(f\"Fehlerhafte Antwort: {response.text}\")\n",
    "    endpoint_response = response.json()\n",
    "    return endpoint_response"
   ]
  },
  {
   "cell_type": "code",
   "execution_count": null,
   "id": "3dda2602-1747-4f22-a3d5-46eadae555cd",
   "metadata": {},
   "outputs": [],
   "source": [
    "payload = {\n",
    "  \"model\": \"gpt-4o-mini\",\n",
    "  \"messages\": [\n",
    "    {\"role\": \"system\", \n",
    "     \"content\": \"Du bist ein Wrestling Experte der alle Fragen über amerikanische Wrestler der 90er Jahre beantwortet.\"\n",
    "    },\n",
    "    {\n",
    "      \"role\": \"user\",\n",
    "      \"content\": [\n",
    "        {\n",
    "          \"type\": \"text\",\n",
    "          \"text\": f\"\"\"Wann ist Hulk Hogan gestorben?\n",
    "                      Berücksichige folgende Informationen {matching_chunks}\n",
    "                      \"\"\"\n",
    "        }\n",
    "      ]\n",
    "    }\n",
    "  ],\n",
    "  \"temperature\": 0.5\n",
    "}"
   ]
  },
  {
   "cell_type": "code",
   "execution_count": null,
   "id": "2fbdd620-3abc-4c51-9291-abb11ad36b5e",
   "metadata": {},
   "outputs": [],
   "source": [
    "endpoint_response = call_openai(payload=payload)\n",
    "chat_answer = endpoint_response.get('choices', [])[0].get('message', {}).get('content', \"FEHLER\")\n",
    "chat_answer"
   ]
  },
  {
   "cell_type": "code",
   "execution_count": null,
   "id": "d7e806bf-7f04-440c-a40a-7337ca6c04c8",
   "metadata": {},
   "outputs": [],
   "source": []
  }
 ],
 "metadata": {
  "kernelspec": {
   "display_name": "Python 3 (ipykernel)",
   "language": "python",
   "name": "python3"
  },
  "language_info": {
   "codemirror_mode": {
    "name": "ipython",
    "version": 3
   },
   "file_extension": ".py",
   "mimetype": "text/x-python",
   "name": "python",
   "nbconvert_exporter": "python",
   "pygments_lexer": "ipython3",
   "version": "3.13.1"
  }
 },
 "nbformat": 4,
 "nbformat_minor": 5
}
