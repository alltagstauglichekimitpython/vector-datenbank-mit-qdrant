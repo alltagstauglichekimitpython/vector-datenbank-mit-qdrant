{
 "cells": [
  {
   "cell_type": "code",
   "execution_count": null,
   "id": "0a2da467-0fbd-4519-ad04-d6e7cef70a84",
   "metadata": {},
   "outputs": [],
   "source": [
    "from qdrant_client import QdrantClient\n",
    "\n",
    "# man Qdrant auch als Dockercontainer laufen lassen\n",
    "#qdrant = QdrantClient(\"http://localhost:6333\")\n",
    "\n",
    "# Erzeugt einen Vektorstorage im Arbeitsspeicher \n",
    "# (geht verloren wenn die Variable neu initialisiert wird oder der Notebook Kernel beendet wird)\n",
    "qdrant = QdrantClient(\":memory:\")"
   ]
  },
  {
   "cell_type": "code",
   "execution_count": null,
   "id": "c437ab89-be1a-46b8-b922-a4ea0abfe69c",
   "metadata": {},
   "outputs": [],
   "source": [
    "from qdrant_client.http.models import VectorParams, PointStruct\n",
    "\n",
    "collection_name = \"the_target_collection\"\n",
    "vector_params = VectorParams(size=3, distance=\"Cosine\")"
   ]
  },
  {
   "cell_type": "code",
   "execution_count": null,
   "id": "9cb489a7-56d2-461a-a3e2-4242f7050cd0",
   "metadata": {},
   "outputs": [],
   "source": [
    "# Create the collection\n",
    "qdrant.create_collection(\n",
    "    collection_name=collection_name,\n",
    "    vectors_config=vector_params\n",
    ")"
   ]
  },
  {
   "cell_type": "code",
   "execution_count": null,
   "id": "1dbe3c31-a609-4071-92b9-63a6d8b71598",
   "metadata": {},
   "outputs": [],
   "source": [
    "points = [\n",
    "    PointStruct(\n",
    "        id=1,\n",
    "        vector=[1, 1, 0],\n",
    "        payload={\"text\": \"Text A\"}\n",
    "    ),\n",
    "    PointStruct(\n",
    "        id=2,\n",
    "        vector=[0, 1, 1],\n",
    "        payload={\"text\": \"Text B\"}\n",
    "    ),\n",
    "    PointStruct(\n",
    "        id=3,\n",
    "        vector=[1, 0, 1],\n",
    "        payload={\"text\": \"Text C\"}\n",
    "    )    \n",
    "]\n",
    "qdrant.upsert(\n",
    "    collection_name=collection_name,\n",
    "    points=points\n",
    ")"
   ]
  },
  {
   "cell_type": "code",
   "execution_count": null,
   "id": "9d51a623-0ac5-4296-9b53-efca0672e54b",
   "metadata": {},
   "outputs": [],
   "source": [
    "qdrant.search(\n",
    "    collection_name=collection_name,\n",
    "    query_vector=[.8, 0, .9],\n",
    "    limit=3\n",
    ")"
   ]
  },
  {
   "cell_type": "code",
   "execution_count": null,
   "id": "03dc1ca6-10d9-43fb-a2af-0fcb6f4fdbfe",
   "metadata": {},
   "outputs": [],
   "source": []
  }
 ],
 "metadata": {
  "kernelspec": {
   "display_name": "Python 3 (ipykernel)",
   "language": "python",
   "name": "python3"
  },
  "language_info": {
   "codemirror_mode": {
    "name": "ipython",
    "version": 3
   },
   "file_extension": ".py",
   "mimetype": "text/x-python",
   "name": "python",
   "nbconvert_exporter": "python",
   "pygments_lexer": "ipython3",
   "version": "3.12.8"
  }
 },
 "nbformat": 4,
 "nbformat_minor": 5
}
